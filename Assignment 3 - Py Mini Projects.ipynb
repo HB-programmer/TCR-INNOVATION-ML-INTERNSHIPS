{
 "cells": [
  {
   "cell_type": "markdown",
   "id": "4c865519",
   "metadata": {},
   "source": [
    "## NAME - HARSHIT BHARDWAJ\n",
    "## ASSIGNMENT NUMBER - 3\n",
    "## ASSIGNMENT NAME - PY MINI PROJECTS\n",
    "## Batch - Machine Learning with python batch 3"
   ]
  },
  {
   "cell_type": "markdown",
   "id": "9919f368",
   "metadata": {},
   "source": [
    "## Q.1.Write Python program for calculating electricity bill\n",
    "#### 1 - 100 unit--------------------------------------------------------Rs.1.5\n",
    "#### 101 - 200 unit-----------------------------------------------------Rs.2.5\n",
    "#### 201 - 300 unit-----------------------------------------------------Rs.04\n",
    "#### 300 - 350 unit-----------------------------------------------------Rs.05\n",
    "#### above 300--------------------------------------------------------fixed charge Rs.1500"
   ]
  },
  {
   "cell_type": "code",
   "execution_count": 1,
   "id": "88c7fb66",
   "metadata": {},
   "outputs": [
    {
     "data": {
      "text/plain": [
       "74"
      ]
     },
     "execution_count": 1,
     "metadata": {},
     "output_type": "execute_result"
    }
   ],
   "source": [
    "file = open('Electricity Bill Details.txt','a')\n",
    "file.write(\"************************************************************************\\n\")\n",
    "file.write(\"\\t\\tElectricity Bill Calculator\")\n",
    "file.write(\"\\n************************************************************************\\n\")"
   ]
  },
  {
   "cell_type": "code",
   "execution_count": 2,
   "id": "20dac2c7",
   "metadata": {},
   "outputs": [
    {
     "name": "stdout",
     "output_type": "stream",
     "text": [
      "Enter you the Month name for which you want to calculate electricity bill with year(e.g; JUn21): JUN12\n",
      "Enter your one month unit: 50\n",
      "Enter '1' to continue and '0' to exit... 1\n",
      "Enter you the Month name for which you want to calculate electricity bill with year(e.g; JUn21): OCT23\n",
      "Enter your one month unit: 45\n",
      "Enter '1' to continue and '0' to exit... 0\n"
     ]
    }
   ],
   "source": [
    "choice = 1\n",
    "while(choice != 0):\n",
    "    month_name = input(\"Enter you the Month name for which you want to calculate electricity bill with year(e.g; JUn21): \")\n",
    "    monthly_unit = int(input(\"Enter your one month unit: \"))\n",
    "\n",
    "    if(monthly_unit>=1 and monthly_unit<=100):\n",
    "        electricity_bill = 1.5\n",
    "    elif (monthly_unit>=101 and monthly_unit<=200):\n",
    "        electricity_bill = 2.5\n",
    "    elif (monthly_unit>=201 and monthly_unit<=300):\n",
    "        electricity_bill = 4\n",
    "    elif (monthly_unit>=301 and monthly_unit<=350):\n",
    "        electricity_bill = 5\n",
    "    else:\n",
    "        electricity_bill = 1500\n",
    "    file.write(\"\\nMonth Name\\t\\t\\tTotal Bill\\n\\n\")\n",
    "    file.write(f\"{month_name}\\t\\t\\t\\t{electricity_bill}\\n\")\n",
    "    choice = int(input(\"Enter \\'1\\' to continue and \\'0\\' to exit... \"))\n",
    "\n",
    "file.close()\n",
    "\n"
   ]
  },
  {
   "cell_type": "code",
   "execution_count": 3,
   "id": "0ccf6c27",
   "metadata": {},
   "outputs": [
    {
     "name": "stdout",
     "output_type": "stream",
     "text": [
      "************************************************************************\n",
      "\t\tElectricity Bill Calculator\n",
      "************************************************************************\n",
      "\n",
      "Month Name\t\t\tTotal Bill\n",
      "\n",
      "kuk25\t\t\t\t1.5\n",
      "************************************************************************\n",
      "\t\tElectricity Bill Calculator\n",
      "************************************************************************\n",
      "\n",
      "Month Name\t\t\tTotal Bill\n",
      "\n",
      "JUN12\t\t\t\t1.5\n",
      "\n",
      "Month Name\t\t\tTotal Bill\n",
      "\n",
      "OCT23\t\t\t\t1.5\n",
      "\n"
     ]
    }
   ],
   "source": [
    "file = open('Electricity Bill Details.txt','r')\n",
    "print(file.read())\n",
    "file.close()"
   ]
  },
  {
   "cell_type": "markdown",
   "id": "c3086d5b",
   "metadata": {},
   "source": [
    "## Q.3 Python Program to Calculate Total Marks Percentage and Grade of a Student Using Class\n",
    "#### percentage above 90 then A Grade\n",
    "#### percentage above 80 then B Grade\n",
    "#### percentage above 70 then C Grade\n",
    "#### percentage above 60 then D Grade\n",
    "#### percentage above 40 then E Grade\n",
    "#### Otherwise Fail"
   ]
  },
  {
   "cell_type": "code",
   "execution_count": 11,
   "id": "05320048",
   "metadata": {},
   "outputs": [
    {
     "name": "stdout",
     "output_type": "stream",
     "text": [
      "Enter the marks of 1 subject: 89\n",
      "Enter the marks of 2 subject: 56\n",
      "Enter the marks of 3 subject: 89\n",
      "Enter the marks of 4 subject: 78\n",
      "Enter the marks of 5 subject: 100\n",
      "The Total marks is:  412 / 500\n",
      "\n",
      "The Average marks is:  82.4\n",
      "\n",
      "The Percentage is:  82.4 %\n",
      "\n",
      "The Grade is:  B\n"
     ]
    }
   ],
   "source": [
    "class Student:\n",
    "    def __init__(self):\n",
    "        self.Total = 0.00\n",
    "        self.Average = 0.00\n",
    "        self.Percentage = 0.00\n",
    "        self.Marks = []\n",
    "        self.MaxMarks = 0.00\n",
    "\n",
    "    def main(self):\n",
    "\n",
    "        for i in range(5):\n",
    "            self.Marks.append( int(input(f\"Enter the marks of {i+1} subject: \")))\n",
    "\n",
    "    def CalcMaxMarks (self):\n",
    "        return len(self.Marks) * 100\n",
    "\n",
    "    def CalcTotal (self):\n",
    "        self.Total = 0\n",
    "        for i in self.Marks:\n",
    "            self.Total += i\n",
    "        return self.Total\n",
    "\n",
    "    def CalcAvg (self):\n",
    "        self.Average = self.Total / len (self.Marks)\n",
    "        return self.Average\n",
    "\n",
    "    def CalcPercentage (self):\n",
    "        return (self.Total * 100) / (len (self.Marks) * 100)\n",
    "\n",
    "    def CalcGrade (self):\n",
    "        Grade = None\n",
    "        if self.Average >= 90:\n",
    "            Grade = 'A'\n",
    "        elif self.Average >= 80 and self.Average < 90:\n",
    "            Grade = 'B'\n",
    "        elif self.Average >= 70 and self.Average < 80:\n",
    "            Grade = 'C'\n",
    "        elif self.Average >= 60 and self.Average < 70:\n",
    "            Grade = 'D'\n",
    "        elif self.Average >= 40 and self.Average < 60:\n",
    "            Grade = 'E'\n",
    "        else:\n",
    "            Grade = 'Fail'\n",
    "        return Grade\n",
    "\n",
    "\n",
    "Stu = Student()\n",
    "\n",
    "Stu.main()\n",
    "\n",
    "print (\"The Total marks is: \", Stu.CalcTotal(), \"/\", Stu.CalcMaxMarks())\n",
    "print (\"\\nThe Average marks is: \", Stu.CalcAvg())\n",
    "print (\"\\nThe Percentage is: \", Stu.CalcPercentage(), \"%\")\n",
    "print (\"\\nThe Grade is: \", Stu.CalcGrade())"
   ]
  },
  {
   "cell_type": "code",
   "execution_count": null,
   "id": "9bea556d",
   "metadata": {},
   "outputs": [],
   "source": []
  }
 ],
 "metadata": {
  "kernelspec": {
   "display_name": "Python 3",
   "language": "python",
   "name": "python3"
  },
  "language_info": {
   "codemirror_mode": {
    "name": "ipython",
    "version": 3
   },
   "file_extension": ".py",
   "mimetype": "text/x-python",
   "name": "python",
   "nbconvert_exporter": "python",
   "pygments_lexer": "ipython3",
   "version": "3.8.8"
  }
 },
 "nbformat": 4,
 "nbformat_minor": 5
}
