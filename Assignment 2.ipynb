{
 "cells": [
  {
   "cell_type": "markdown",
   "id": "fcd48386",
   "metadata": {},
   "source": [
    "## Q.1.Write a python program find the number of characters present in a string (without  using len() )"
   ]
  },
  {
   "cell_type": "code",
   "execution_count": 8,
   "id": "62ccb677",
   "metadata": {},
   "outputs": [
    {
     "name": "stdout",
     "output_type": "stream",
     "text": [
      "Enetr any string: i am learning ml\n",
      "The length of the string you entered is 16\n",
      "Enter '1' to enter new string and '0' to exit..0\n",
      "-----------------------You are exited-------------------------\n"
     ]
    }
   ],
   "source": [
    "choice = 1\n",
    "while choice:\n",
    "    string = input(\"Enetr any string: \")\n",
    "    count = 0 \n",
    "    for i in string:\n",
    "        count += 1\n",
    "    print(f\"The length of the string you entered is {count}\")\n",
    "    choice = int(input(\"Enter \\'1' to enter new string and \\'0' to exit..\"))\n",
    "    \n",
    "print(\"-----------------------You are exited-------------------------\")"
   ]
  },
  {
   "cell_type": "markdown",
   "id": "33596aab",
   "metadata": {},
   "source": [
    "## Q.2.Write a python program to count the number occurrences all vowels present in a string"
   ]
  },
  {
   "cell_type": "code",
   "execution_count": 11,
   "id": "464b7318",
   "metadata": {},
   "outputs": [
    {
     "name": "stdout",
     "output_type": "stream",
     "text": [
      "Enter any string: Harshit Bhardwaj\n",
      "The number of occurence of 'a' vowel in string is 3\n",
      "The number of occurence of 'i' vowel in string is 1\n"
     ]
    }
   ],
   "source": [
    "vowels = ['a','e','i','o','u','A','E','I','O','U']\n",
    "dic ={'a':0 ,'e':0 ,'i':0 ,'o':0 ,'u':0 ,'A':0 ,'E':0 ,'I':0 ,'O':0 ,'U':0}\n",
    "string = input(\"Enter any string: \")\n",
    "for i in string:\n",
    "    if i in vowels:\n",
    "        dic[i] += 1\n",
    "for i,j in dic.items():\n",
    "    if j > 0:\n",
    "        print(f\"The number of occurence of \\'{i}\\' vowel in string is {j}\")"
   ]
  },
  {
   "cell_type": "markdown",
   "id": "fea71eee",
   "metadata": {},
   "source": [
    "## Q.3. Write a python program to reverse a string without using built in method"
   ]
  },
  {
   "cell_type": "code",
   "execution_count": 12,
   "id": "d0ec579d",
   "metadata": {},
   "outputs": [
    {
     "name": "stdout",
     "output_type": "stream",
     "text": [
      "Enter your string: hello\n",
      "olleh\n"
     ]
    }
   ],
   "source": [
    "string = input(\"Enter your string: \")\n",
    "print(string[::-1])"
   ]
  },
  {
   "cell_type": "markdown",
   "id": "c2371d84",
   "metadata": {},
   "source": [
    "## Q.4.Write a python program to request the program user to input two personal information (name and age). Then print out those program user personal information as same as the following output:\n",
    "#### Please input your name : Mark \n",
    "#### Please input your age : 20\n",
    "#### Expected Answe r: Hello , Mark. You are 20 years old now. You can access to this program!"
   ]
  },
  {
   "cell_type": "code",
   "execution_count": 13,
   "id": "37620f15",
   "metadata": {},
   "outputs": [
    {
     "name": "stdout",
     "output_type": "stream",
     "text": [
      "Enter your name: Mark\n",
      "Enetr you age: 20\n",
      "Hello , Mark. You are 20 years old now. You can access to this program!\n"
     ]
    }
   ],
   "source": [
    "name = input(\"Enter your name: \")\n",
    "age = int(input(\"Enetr you age: \"))\n",
    "\n",
    "if age >= 18:\n",
    "    print(f\"Hello , {name}. You are {age} years old now. You can access to this program!\")"
   ]
  },
  {
   "cell_type": "markdown",
   "id": "de5251f5",
   "metadata": {},
   "source": [
    "## Q.5. Return the count of a given substring from a string"
   ]
  },
  {
   "cell_type": "code",
   "execution_count": 15,
   "id": "35cd0275",
   "metadata": {},
   "outputs": [
    {
     "name": "stdout",
     "output_type": "stream",
     "text": [
      "Enter the string: Harshit Bhardwaj\n",
      "Enter the substring whose number you want to calculate: har\n",
      "The count of substring har in given Harshit Bhardwaj string is 1\n"
     ]
    }
   ],
   "source": [
    "string = input(\"Enter the string: \")\n",
    "\n",
    "sub_string = input(\"Enter the substring whose number you want to calculate: \")\n",
    "\n",
    "print(f\"The count of substring {sub_string} in given {string} string is {string.count(sub_string)}\")"
   ]
  },
  {
   "cell_type": "code",
   "execution_count": null,
   "id": "f559b0bc",
   "metadata": {},
   "outputs": [],
   "source": []
  }
 ],
 "metadata": {
  "kernelspec": {
   "display_name": "Python 3",
   "language": "python",
   "name": "python3"
  },
  "language_info": {
   "codemirror_mode": {
    "name": "ipython",
    "version": 3
   },
   "file_extension": ".py",
   "mimetype": "text/x-python",
   "name": "python",
   "nbconvert_exporter": "python",
   "pygments_lexer": "ipython3",
   "version": "3.8.8"
  }
 },
 "nbformat": 4,
 "nbformat_minor": 5
}
