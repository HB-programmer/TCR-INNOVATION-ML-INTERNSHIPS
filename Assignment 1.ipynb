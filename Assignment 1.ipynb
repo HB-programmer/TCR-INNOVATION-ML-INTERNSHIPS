{
 "cells": [
  {
   "cell_type": "markdown",
   "id": "d8308b8a",
   "metadata": {},
   "source": [
    "## Q.1.Write a python program to allow user to input their weight and height in order to calculate the BMI of user. [formula of BMI = weight(kg)/height(m)]\n"
   ]
  },
  {
   "cell_type": "code",
   "execution_count": 2,
   "id": "d2c30d24",
   "metadata": {},
   "outputs": [
    {
     "name": "stdout",
     "output_type": "stream",
     "text": [
      "Enter your weight in kg: 75.00\n",
      "Enter your height in meters: 1.89\n"
     ]
    }
   ],
   "source": [
    "weight = float(input(\"Enter your weight in kg: \"))\n",
    "\n",
    "height = float(input(\"Enter your height in meters: \"))"
   ]
  },
  {
   "cell_type": "code",
   "execution_count": 3,
   "id": "db425d01",
   "metadata": {},
   "outputs": [
    {
     "name": "stdout",
     "output_type": "stream",
     "text": [
      "You BMI on the basis of your 75.0 kg weight and 1.89 m height is:  39.682539682539684\n"
     ]
    }
   ],
   "source": [
    "BMI = weight/height\n",
    "\n",
    "print(f\"You BMI on the basis of your {weight} kg weight and {height} m height is: \",BMI)"
   ]
  },
  {
   "cell_type": "markdown",
   "id": "584e6e03",
   "metadata": {},
   "source": [
    "## Q.2. Write a python program to convert the temperature either from celsius to fahrenheit or from fahrenheit to celsius.To request the program user to input the temperature value with their F or C to represent fahrenheit or celsius."
   ]
  },
  {
   "cell_type": "code",
   "execution_count": 8,
   "id": "1c35f019",
   "metadata": {},
   "outputs": [
    {
     "name": "stdout",
     "output_type": "stream",
     "text": [
      "\n",
      "*****************************************************************************************************************************\n",
      "\n",
      "Enter '1' for coverting temperature from celsius to fahrenheit and '2' for converting temperature from fahrenheit to celsius\n",
      "\n",
      "*****************************************************************************************************************************\n",
      "\n"
     ]
    }
   ],
   "source": [
    "print(\"\\n*****************************************************************************************************************************\\n\")\n",
    "\n",
    "print(\"Enter \\'1\\' for coverting temperature from celsius to fahrenheit and \\'2\\' for converting temperature from fahrenheit to celsius\")\n",
    "\n",
    "print(\"\\n*****************************************************************************************************************************\\n\")"
   ]
  },
  {
   "cell_type": "code",
   "execution_count": 11,
   "id": "e7382672",
   "metadata": {},
   "outputs": [
    {
     "name": "stdout",
     "output_type": "stream",
     "text": [
      "Enetr your choice: 1\n",
      "Enter value of temperature in celcius: 0\n",
      "Your temperature value in fahrenheit is 32.0'F\n",
      "Enetr your choice: 2\n",
      "Enter value of temperature in fahrenheit: 32\n",
      "Your temperature value in celsius is 0.0'C\n",
      "Enetr your choice: 3\n"
     ]
    }
   ],
   "source": [
    "choice = int(input(\"Enetr your choice: \"))\n",
    "\n",
    "\n",
    "while (choice <= 2) and (choice >= 1):\n",
    "    if choice == 1:\n",
    "        C = float(input(\"Enter value of temperature in celcius: \"))\n",
    "        temperature = (C * (9/5)) + 32\n",
    "        print(f\"Your temperature value in fahrenheit is {temperature}\\'F\")\n",
    "\n",
    "    else:\n",
    "        F = float(input(\"Enter value of temperature in fahrenheit: \"))\n",
    "        temperature = (F - 32 ) * (5/9)\n",
    "        print(f\"Your temperature value in celsius is {temperature}\\'C\")\n",
    "        \n",
    "    choice = int(input(\"Enetr your choice: \"))\n",
    "    \n",
    "print(\"You are exited..\")"
   ]
  },
  {
   "cell_type": "markdown",
   "id": "8de076e7",
   "metadata": {},
   "source": [
    "## Q.Calculate income tax for the given income by adhering to the below rule \n",
    "#### Taxable Income        -----------------------                           Rate(in%)\n",
    "#### First  10,000 dollars  ----------------------                               0\n",
    "#### Next  10,000 dollars  ----------------------                            10\n",
    "#### The remaining           ----------------------                             20"
   ]
  },
  {
   "cell_type": "code",
   "execution_count": 5,
   "id": "c37af5e7",
   "metadata": {},
   "outputs": [
    {
     "name": "stdout",
     "output_type": "stream",
     "text": [
      "Enetr your yearly income in '$': 12000\n",
      "Your income tax for your given 12000.0$ income is 1200.0$\n",
      "Eneter 0 to exit and 1 to continue for calculating income tax...0\n",
      "-------------------You are exited---------------------\n",
      "\n"
     ]
    }
   ],
   "source": [
    "income = float(input(\"Enetr your yearly income in \\'$': \"))\n",
    "\n",
    "choice = 1\n",
    "\n",
    "while choice != 0:\n",
    "    if income <= 10000:\n",
    "        income_tax = 0\n",
    "    elif (income <= 20000) and (income >= 10000):\n",
    "        income_tax = (income * 10)/100\n",
    "    else:\n",
    "        income_tax = (income * 20)/100\n",
    "    print(f\"Your income tax for your given {income}$ income is {income_tax}$\")\n",
    "    choice = int(input(\"Eneter 0 to exit and 1 to continue for calculating income tax...\"))\n",
    "print(\"-------------------You are exited---------------------\\n\")"
   ]
  },
  {
   "cell_type": "markdown",
   "id": "8958b5dd",
   "metadata": {},
   "source": [
    "## Q.4.Print the following pattern:\n",
    "#### 1\n",
    "#### 12\n",
    "#### 123\n",
    "#### 1234\n",
    "#### 12345"
   ]
  },
  {
   "cell_type": "code",
   "execution_count": 11,
   "id": "9e04ba82",
   "metadata": {},
   "outputs": [
    {
     "name": "stdout",
     "output_type": "stream",
     "text": [
      "Enter number of rows you want for your pattern: 5\n",
      "1\t\n",
      "\n",
      "1\t2\t\n",
      "\n",
      "1\t2\t3\t\n",
      "\n",
      "1\t2\t3\t4\t\n",
      "\n",
      "1\t2\t3\t4\t5\t\n",
      "\n"
     ]
    }
   ],
   "source": [
    "row  = int(input(\"Enter number of rows you want for your pattern: \"))\n",
    "for i in range(1,row+1):\n",
    "    for j in range(1,i+1):\n",
    "        print(f\"{j}\",end='\\t')\n",
    "    print(\"\\n\")\n",
    "    "
   ]
  },
  {
   "cell_type": "markdown",
   "id": "248b87fb",
   "metadata": {},
   "source": [
    "## Q.5. Print multiplication table form 1 to 10"
   ]
  },
  {
   "cell_type": "code",
   "execution_count": 13,
   "id": "37c6af7f",
   "metadata": {},
   "outputs": [
    {
     "name": "stdout",
     "output_type": "stream",
     "text": [
      "-----------Table of 1-------------------\n",
      "1 * 1 = 1\n",
      "1 * 2 = 2\n",
      "1 * 3 = 3\n",
      "1 * 4 = 4\n",
      "1 * 5 = 5\n",
      "1 * 6 = 6\n",
      "1 * 7 = 7\n",
      "1 * 8 = 8\n",
      "1 * 9 = 9\n",
      "1 * 10 = 10\n",
      "-----------Table of 2-------------------\n",
      "2 * 1 = 2\n",
      "2 * 2 = 4\n",
      "2 * 3 = 6\n",
      "2 * 4 = 8\n",
      "2 * 5 = 10\n",
      "2 * 6 = 12\n",
      "2 * 7 = 14\n",
      "2 * 8 = 16\n",
      "2 * 9 = 18\n",
      "2 * 10 = 20\n",
      "-----------Table of 3-------------------\n",
      "3 * 1 = 3\n",
      "3 * 2 = 6\n",
      "3 * 3 = 9\n",
      "3 * 4 = 12\n",
      "3 * 5 = 15\n",
      "3 * 6 = 18\n",
      "3 * 7 = 21\n",
      "3 * 8 = 24\n",
      "3 * 9 = 27\n",
      "3 * 10 = 30\n",
      "-----------Table of 4-------------------\n",
      "4 * 1 = 4\n",
      "4 * 2 = 8\n",
      "4 * 3 = 12\n",
      "4 * 4 = 16\n",
      "4 * 5 = 20\n",
      "4 * 6 = 24\n",
      "4 * 7 = 28\n",
      "4 * 8 = 32\n",
      "4 * 9 = 36\n",
      "4 * 10 = 40\n",
      "-----------Table of 5-------------------\n",
      "5 * 1 = 5\n",
      "5 * 2 = 10\n",
      "5 * 3 = 15\n",
      "5 * 4 = 20\n",
      "5 * 5 = 25\n",
      "5 * 6 = 30\n",
      "5 * 7 = 35\n",
      "5 * 8 = 40\n",
      "5 * 9 = 45\n",
      "5 * 10 = 50\n",
      "-----------Table of 6-------------------\n",
      "6 * 1 = 6\n",
      "6 * 2 = 12\n",
      "6 * 3 = 18\n",
      "6 * 4 = 24\n",
      "6 * 5 = 30\n",
      "6 * 6 = 36\n",
      "6 * 7 = 42\n",
      "6 * 8 = 48\n",
      "6 * 9 = 54\n",
      "6 * 10 = 60\n",
      "-----------Table of 7-------------------\n",
      "7 * 1 = 7\n",
      "7 * 2 = 14\n",
      "7 * 3 = 21\n",
      "7 * 4 = 28\n",
      "7 * 5 = 35\n",
      "7 * 6 = 42\n",
      "7 * 7 = 49\n",
      "7 * 8 = 56\n",
      "7 * 9 = 63\n",
      "7 * 10 = 70\n",
      "-----------Table of 8-------------------\n",
      "8 * 1 = 8\n",
      "8 * 2 = 16\n",
      "8 * 3 = 24\n",
      "8 * 4 = 32\n",
      "8 * 5 = 40\n",
      "8 * 6 = 48\n",
      "8 * 7 = 56\n",
      "8 * 8 = 64\n",
      "8 * 9 = 72\n",
      "8 * 10 = 80\n",
      "-----------Table of 9-------------------\n",
      "9 * 1 = 9\n",
      "9 * 2 = 18\n",
      "9 * 3 = 27\n",
      "9 * 4 = 36\n",
      "9 * 5 = 45\n",
      "9 * 6 = 54\n",
      "9 * 7 = 63\n",
      "9 * 8 = 72\n",
      "9 * 9 = 81\n",
      "9 * 10 = 90\n",
      "-----------Table of 10-------------------\n",
      "10 * 1 = 10\n",
      "10 * 2 = 20\n",
      "10 * 3 = 30\n",
      "10 * 4 = 40\n",
      "10 * 5 = 50\n",
      "10 * 6 = 60\n",
      "10 * 7 = 70\n",
      "10 * 8 = 80\n",
      "10 * 9 = 90\n",
      "10 * 10 = 100\n"
     ]
    }
   ],
   "source": [
    "for i in range(1,11):\n",
    "    print(f\"-----------Table of {i}-------------------\")\n",
    "    for j in range(1,11):\n",
    "        \n",
    "        print(f\"{i} * {j} = {i*j}\")"
   ]
  },
  {
   "cell_type": "markdown",
   "id": "f3db7d9e",
   "metadata": {},
   "source": [
    "## Q.6. Write a python program to allow user to input their weight and height in order to calculate the BMI of user.[formula of BMI = weight(kg)/height(m)]\n",
    "#### less than bmi18.5 ------------ underweight\n",
    "#### greater than bmi 18.5 and less than 24.9 -----------------Normal range, keep attention\n",
    "#### greater than bmi 24.9 and less than 29.9 ------------------  Overweight\n",
    "#### Otherwise------------   Fat"
   ]
  },
  {
   "cell_type": "code",
   "execution_count": 16,
   "id": "ff7cee7f",
   "metadata": {},
   "outputs": [
    {
     "name": "stdout",
     "output_type": "stream",
     "text": [
      "Enter your weight in kg: 90\n",
      "Enter your height in meters:  1.557528\n",
      "\n",
      "*****************************************************************************************************************************\n",
      "\n",
      "You BMI on the basis of your 90.0 kg weight and 1.557528 m height is:  57.783872906297674\n",
      "\n",
      "*****************************************************************************************************************************\n",
      "\n"
     ]
    }
   ],
   "source": [
    "weight = float(input(\"Enter your weight in kg: \"))\n",
    "\n",
    "height = float(input(\"Enter your height in meters: \"))\n",
    "\n",
    "BMI = weight/height\n",
    "\n",
    "print(\"\\n*****************************************************************************************************************************\\n\")\n",
    "print(f\"You BMI on the basis of your {weight} kg weight and {height} m height is: \",BMI)\n",
    "print(\"\\n*****************************************************************************************************************************\\n\")"
   ]
  },
  {
   "cell_type": "code",
   "execution_count": 17,
   "id": "cd047ca6",
   "metadata": {},
   "outputs": [
    {
     "name": "stdout",
     "output_type": "stream",
     "text": [
      "You are Fat...\n"
     ]
    }
   ],
   "source": [
    "if BMI <= 18.5:\n",
    "    print(\"You are underweight...\")\n",
    "elif (BMI > 18.5) and (BMI <= 24.9):\n",
    "    print(\"You are in Normal range, keep attention...\")\n",
    "elif (BMI > 24.9) and (BMI <= 29.9):\n",
    "    print(\"You are Overweight...\")\n",
    "else:\n",
    "    print(\"You are Fat...\")"
   ]
  },
  {
   "cell_type": "code",
   "execution_count": null,
   "id": "3df8182f",
   "metadata": {},
   "outputs": [],
   "source": []
  }
 ],
 "metadata": {
  "kernelspec": {
   "display_name": "Python 3",
   "language": "python",
   "name": "python3"
  },
  "language_info": {
   "codemirror_mode": {
    "name": "ipython",
    "version": 3
   },
   "file_extension": ".py",
   "mimetype": "text/x-python",
   "name": "python",
   "nbconvert_exporter": "python",
   "pygments_lexer": "ipython3",
   "version": "3.8.8"
  }
 },
 "nbformat": 4,
 "nbformat_minor": 5
}
